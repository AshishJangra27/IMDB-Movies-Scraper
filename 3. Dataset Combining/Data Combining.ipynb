{
 "cells": [
  {
   "cell_type": "code",
   "execution_count": 86,
   "id": "9fe825a1",
   "metadata": {},
   "outputs": [],
   "source": [
    "import os\n",
    "import numpy as np\n",
    "import pandas as pd"
   ]
  },
  {
   "cell_type": "markdown",
   "id": "9a7d1ed6",
   "metadata": {},
   "source": [
    "### 1. Combining the Datasets"
   ]
  },
  {
   "cell_type": "code",
   "execution_count": 74,
   "id": "1f40dbe1",
   "metadata": {},
   "outputs": [
    {
     "name": "stderr",
     "output_type": "stream",
     "text": [
      "/Users/ashishzangra/opt/anaconda3/lib/python3.9/site-packages/IPython/core/interactiveshell.py:3444: DtypeWarning: Columns (8) have mixed types.Specify dtype option on import or set low_memory=False.\n",
      "  exec(code_obj, self.user_global_ns, self.user_ns)\n",
      "/Users/ashishzangra/opt/anaconda3/lib/python3.9/site-packages/IPython/core/interactiveshell.py:3444: DtypeWarning: Columns (7,8) have mixed types.Specify dtype option on import or set low_memory=False.\n",
      "  exec(code_obj, self.user_global_ns, self.user_ns)\n"
     ]
    }
   ],
   "source": [
    "data = pd.DataFrame()\n",
    "\n",
    "for i in os.listdir('Genre/'):  \n",
    "    \n",
    "    if (i != '.DS_Store'):   \n",
    "        file_path = 'Genre/' + i\n",
    "        df = pd.read_csv(file_path)\n",
    "        data = pd.concat((data,df))"
   ]
  },
  {
   "cell_type": "code",
   "execution_count": 75,
   "id": "2074d61c",
   "metadata": {
    "scrolled": true
   },
   "outputs": [
    {
     "data": {
      "text/html": [
       "<div>\n",
       "<style scoped>\n",
       "    .dataframe tbody tr th:only-of-type {\n",
       "        vertical-align: middle;\n",
       "    }\n",
       "\n",
       "    .dataframe tbody tr th {\n",
       "        vertical-align: top;\n",
       "    }\n",
       "\n",
       "    .dataframe thead th {\n",
       "        text-align: right;\n",
       "    }\n",
       "</style>\n",
       "<table border=\"1\" class=\"dataframe\">\n",
       "  <thead>\n",
       "    <tr style=\"text-align: right;\">\n",
       "      <th></th>\n",
       "      <th>id</th>\n",
       "      <th>name</th>\n",
       "      <th>year</th>\n",
       "      <th>rating</th>\n",
       "      <th>certificate</th>\n",
       "      <th>duration</th>\n",
       "      <th>genre</th>\n",
       "      <th>votes</th>\n",
       "      <th>gross_income</th>\n",
       "      <th>directors_id</th>\n",
       "      <th>directors_name</th>\n",
       "      <th>stars_id</th>\n",
       "      <th>stars_name</th>\n",
       "      <th>description</th>\n",
       "    </tr>\n",
       "  </thead>\n",
       "  <tbody>\n",
       "    <tr>\n",
       "      <th>337182</th>\n",
       "      <td>tt9898738</td>\n",
       "      <td>Alla mot alla med Filip och Fredrik</td>\n",
       "      <td>(2019– )</td>\n",
       "      <td>NaN</td>\n",
       "      <td>NaN</td>\n",
       "      <td>NaN</td>\n",
       "      <td>Game-Show</td>\n",
       "      <td>NaN</td>\n",
       "      <td>NaN</td>\n",
       "      <td>NaN</td>\n",
       "      <td>NaN</td>\n",
       "      <td>nm1229568,nm1229296,nm10518401,nm0423935</td>\n",
       "      <td>Filip Hammar,Fredrik Wikingsson,Emma Frans,Eri...</td>\n",
       "      <td>Add a Plot</td>\n",
       "    </tr>\n",
       "    <tr>\n",
       "      <th>337183</th>\n",
       "      <td>tt9898742</td>\n",
       "      <td>Alla mot alla med Filip och Fredrik</td>\n",
       "      <td>(2019– )</td>\n",
       "      <td>NaN</td>\n",
       "      <td>NaN</td>\n",
       "      <td>NaN</td>\n",
       "      <td>Game-Show</td>\n",
       "      <td>NaN</td>\n",
       "      <td>NaN</td>\n",
       "      <td>NaN</td>\n",
       "      <td>NaN</td>\n",
       "      <td>nm1229568,nm1229296,nm0423935,nm2644274</td>\n",
       "      <td>Filip Hammar,Fredrik Wikingsson,Erik Johansson...</td>\n",
       "      <td>Add a Plot</td>\n",
       "    </tr>\n",
       "    <tr>\n",
       "      <th>337184</th>\n",
       "      <td>tt9898746</td>\n",
       "      <td>Alla mot alla med Filip och Fredrik</td>\n",
       "      <td>(2019– )</td>\n",
       "      <td>NaN</td>\n",
       "      <td>NaN</td>\n",
       "      <td>NaN</td>\n",
       "      <td>Game-Show</td>\n",
       "      <td>NaN</td>\n",
       "      <td>NaN</td>\n",
       "      <td>NaN</td>\n",
       "      <td>NaN</td>\n",
       "      <td>nm1229568,nm1229296,nm3355023,nm7732727</td>\n",
       "      <td>Filip Hammar,Fredrik Wikingsson,Hanna Hellquis...</td>\n",
       "      <td>Add a Plot</td>\n",
       "    </tr>\n",
       "    <tr>\n",
       "      <th>337185</th>\n",
       "      <td>tt9898802</td>\n",
       "      <td>Aslan Max Eglence Fabrikasi</td>\n",
       "      <td>(2016–2017)</td>\n",
       "      <td>NaN</td>\n",
       "      <td>NaN</td>\n",
       "      <td>NaN</td>\n",
       "      <td>Game-Show</td>\n",
       "      <td>NaN</td>\n",
       "      <td>NaN</td>\n",
       "      <td>NaN</td>\n",
       "      <td>NaN</td>\n",
       "      <td>NaN</td>\n",
       "      <td>NaN</td>\n",
       "      <td>Add a Plot</td>\n",
       "    </tr>\n",
       "    <tr>\n",
       "      <th>337186</th>\n",
       "      <td>tt9898812</td>\n",
       "      <td>Aslan Max Eglence Fabrikasi</td>\n",
       "      <td>(2016–2017)</td>\n",
       "      <td>NaN</td>\n",
       "      <td>NaN</td>\n",
       "      <td>NaN</td>\n",
       "      <td>Game-Show</td>\n",
       "      <td>NaN</td>\n",
       "      <td>NaN</td>\n",
       "      <td>/name/nm10518392/,/name/nm4756662/</td>\n",
       "      <td>Oguz Bayram,Ferman Akgül</td>\n",
       "      <td>nm4756662</td>\n",
       "      <td>Ferman Akgül</td>\n",
       "      <td>Add a Plot</td>\n",
       "    </tr>\n",
       "  </tbody>\n",
       "</table>\n",
       "</div>"
      ],
      "text/plain": [
       "               id                                  name         year  rating  \\\n",
       "337182  tt9898738   Alla mot alla med Filip och Fredrik     (2019– )     NaN   \n",
       "337183  tt9898742   Alla mot alla med Filip och Fredrik     (2019– )     NaN   \n",
       "337184  tt9898746   Alla mot alla med Filip och Fredrik     (2019– )     NaN   \n",
       "337185  tt9898802           Aslan Max Eglence Fabrikasi  (2016–2017)     NaN   \n",
       "337186  tt9898812           Aslan Max Eglence Fabrikasi  (2016–2017)     NaN   \n",
       "\n",
       "       certificate duration      genre votes gross_income  \\\n",
       "337182         NaN      NaN  Game-Show   NaN          NaN   \n",
       "337183         NaN      NaN  Game-Show   NaN          NaN   \n",
       "337184         NaN      NaN  Game-Show   NaN          NaN   \n",
       "337185         NaN      NaN  Game-Show   NaN          NaN   \n",
       "337186         NaN      NaN  Game-Show   NaN          NaN   \n",
       "\n",
       "                              directors_id            directors_name  \\\n",
       "337182                                 NaN                       NaN   \n",
       "337183                                 NaN                       NaN   \n",
       "337184                                 NaN                       NaN   \n",
       "337185                                 NaN                       NaN   \n",
       "337186  /name/nm10518392/,/name/nm4756662/  Oguz Bayram,Ferman Akgül   \n",
       "\n",
       "                                        stars_id  \\\n",
       "337182  nm1229568,nm1229296,nm10518401,nm0423935   \n",
       "337183   nm1229568,nm1229296,nm0423935,nm2644274   \n",
       "337184   nm1229568,nm1229296,nm3355023,nm7732727   \n",
       "337185                                       NaN   \n",
       "337186                                 nm4756662   \n",
       "\n",
       "                                               stars_name description  \n",
       "337182  Filip Hammar,Fredrik Wikingsson,Emma Frans,Eri...  Add a Plot  \n",
       "337183  Filip Hammar,Fredrik Wikingsson,Erik Johansson...  Add a Plot  \n",
       "337184  Filip Hammar,Fredrik Wikingsson,Hanna Hellquis...  Add a Plot  \n",
       "337185                                                NaN  Add a Plot  \n",
       "337186                                       Ferman Akgül  Add a Plot  "
      ]
     },
     "execution_count": 75,
     "metadata": {},
     "output_type": "execute_result"
    }
   ],
   "source": [
    "data.tail()"
   ]
  },
  {
   "cell_type": "markdown",
   "id": "0347b66a",
   "metadata": {},
   "source": [
    "### 2. Remove Duplicate Movies"
   ]
  },
  {
   "cell_type": "code",
   "execution_count": 76,
   "id": "962f6333",
   "metadata": {},
   "outputs": [],
   "source": [
    "data = data.drop_duplicates(subset = ['id'])\n",
    "\n",
    "data.to_csv('raw.csv',index = False)"
   ]
  },
  {
   "cell_type": "markdown",
   "id": "7af36cc8",
   "metadata": {},
   "source": [
    "### 3. Dealing with Null Values"
   ]
  },
  {
   "cell_type": "code",
   "execution_count": 30,
   "id": "a4c0aebf",
   "metadata": {},
   "outputs": [
    {
     "data": {
      "text/html": [
       "<div>\n",
       "<style scoped>\n",
       "    .dataframe tbody tr th:only-of-type {\n",
       "        vertical-align: middle;\n",
       "    }\n",
       "\n",
       "    .dataframe tbody tr th {\n",
       "        vertical-align: top;\n",
       "    }\n",
       "\n",
       "    .dataframe thead th {\n",
       "        text-align: right;\n",
       "    }\n",
       "</style>\n",
       "<table border=\"1\" class=\"dataframe\">\n",
       "  <thead>\n",
       "    <tr style=\"text-align: right;\">\n",
       "      <th></th>\n",
       "      <th>id</th>\n",
       "      <th>name</th>\n",
       "      <th>year</th>\n",
       "      <th>rating</th>\n",
       "      <th>certificate</th>\n",
       "      <th>duration</th>\n",
       "      <th>genre</th>\n",
       "      <th>votes</th>\n",
       "      <th>gross_income</th>\n",
       "      <th>directors_id</th>\n",
       "      <th>directors_name</th>\n",
       "      <th>stars_id</th>\n",
       "      <th>stars_name</th>\n",
       "      <th>description</th>\n",
       "    </tr>\n",
       "  </thead>\n",
       "  <tbody>\n",
       "    <tr>\n",
       "      <th>0</th>\n",
       "      <td>tt4710316</td>\n",
       "      <td>Best in Sex: 2015 AVN Awards</td>\n",
       "      <td>(2015 TV Special)</td>\n",
       "      <td>4.0</td>\n",
       "      <td>TV-MA</td>\n",
       "      <td>94 min</td>\n",
       "      <td>Adult, News</td>\n",
       "      <td>124.0</td>\n",
       "      <td>NaN</td>\n",
       "      <td>nm1624094</td>\n",
       "      <td>Gary Miller</td>\n",
       "      <td>nm4766272,nm2670531,nm4920605,nm6284246</td>\n",
       "      <td>Farrah Laurel Abraham,Asa Akira,Anikka Albrite...</td>\n",
       "      <td>The hottest adult stars and top adult movies a...</td>\n",
       "    </tr>\n",
       "    <tr>\n",
       "      <th>1</th>\n",
       "      <td>tt1281857</td>\n",
       "      <td>Naughty Novelist</td>\n",
       "      <td>(2008 Video)</td>\n",
       "      <td>3.8</td>\n",
       "      <td>NaN</td>\n",
       "      <td>88 min</td>\n",
       "      <td>Adult</td>\n",
       "      <td>174.0</td>\n",
       "      <td>NaN</td>\n",
       "      <td>nm0045256</td>\n",
       "      <td>John Bacchus</td>\n",
       "      <td>nm0128986,nm1969196,nm0451160,nm6130462</td>\n",
       "      <td>Darian Caine,Jackie Stevens,A.J. Khan,Arrora</td>\n",
       "      <td>Darian is a successful journalist but when she...</td>\n",
       "    </tr>\n",
       "    <tr>\n",
       "      <th>2</th>\n",
       "      <td>tt2294954</td>\n",
       "      <td>2011 AVN Awards Show</td>\n",
       "      <td>(2011 TV Special)</td>\n",
       "      <td>5.7</td>\n",
       "      <td>NaN</td>\n",
       "      <td>83 min</td>\n",
       "      <td>Adult, News</td>\n",
       "      <td>39.0</td>\n",
       "      <td>NaN</td>\n",
       "      <td>nm1624094,nm0754845</td>\n",
       "      <td>Gary Miller,Timothy E. Sabo</td>\n",
       "      <td>nm2200343,nm2670531,nm1267549,nm3585599</td>\n",
       "      <td>Aubrey Addams,Asa Akira,Monique Alexander,Rave...</td>\n",
       "      <td>Add a Plot</td>\n",
       "    </tr>\n",
       "    <tr>\n",
       "      <th>3</th>\n",
       "      <td>tt6843596</td>\n",
       "      <td>Best in Sex: 2017 AVN Awards</td>\n",
       "      <td>(2017 TV Special)</td>\n",
       "      <td>4.9</td>\n",
       "      <td>TV-MA</td>\n",
       "      <td>87 min</td>\n",
       "      <td>Adult, News</td>\n",
       "      <td>225.0</td>\n",
       "      <td>NaN</td>\n",
       "      <td>nm1624094</td>\n",
       "      <td>Gary Miller</td>\n",
       "      <td>nm5221471,nm2670531,nm4920605,nm3038816</td>\n",
       "      <td>Amirah Adara,Asa Akira,Anikka Albrite,Britney ...</td>\n",
       "      <td>Considered the industry's highest honor, the A...</td>\n",
       "    </tr>\n",
       "    <tr>\n",
       "      <th>4</th>\n",
       "      <td>tt3705604</td>\n",
       "      <td>AVN Awards 2014</td>\n",
       "      <td>(2014 TV Special)</td>\n",
       "      <td>6.7</td>\n",
       "      <td>R</td>\n",
       "      <td>82 min</td>\n",
       "      <td>Adult, News</td>\n",
       "      <td>101.0</td>\n",
       "      <td>NaN</td>\n",
       "      <td>nm1624094</td>\n",
       "      <td>Gary Miller</td>\n",
       "      <td>nm2670531,nm4920605,nm6284246,nm3992720</td>\n",
       "      <td>Asa Akira,Anikka Albrite,August Ames,Jessie An...</td>\n",
       "      <td>Erotic filmmaking superstars Chanel Preston an...</td>\n",
       "    </tr>\n",
       "  </tbody>\n",
       "</table>\n",
       "</div>"
      ],
      "text/plain": [
       "          id                          name               year  rating  \\\n",
       "0  tt4710316  Best in Sex: 2015 AVN Awards  (2015 TV Special)     4.0   \n",
       "1  tt1281857              Naughty Novelist       (2008 Video)     3.8   \n",
       "2  tt2294954          2011 AVN Awards Show  (2011 TV Special)     5.7   \n",
       "3  tt6843596  Best in Sex: 2017 AVN Awards  (2017 TV Special)     4.9   \n",
       "4  tt3705604               AVN Awards 2014  (2014 TV Special)     6.7   \n",
       "\n",
       "  certificate duration        genre  votes gross_income         directors_id  \\\n",
       "0       TV-MA   94 min  Adult, News  124.0          NaN            nm1624094   \n",
       "1         NaN   88 min        Adult  174.0          NaN            nm0045256   \n",
       "2         NaN   83 min  Adult, News   39.0          NaN  nm1624094,nm0754845   \n",
       "3       TV-MA   87 min  Adult, News  225.0          NaN            nm1624094   \n",
       "4           R   82 min  Adult, News  101.0          NaN            nm1624094   \n",
       "\n",
       "                directors_name                                 stars_id  \\\n",
       "0                  Gary Miller  nm4766272,nm2670531,nm4920605,nm6284246   \n",
       "1                 John Bacchus  nm0128986,nm1969196,nm0451160,nm6130462   \n",
       "2  Gary Miller,Timothy E. Sabo  nm2200343,nm2670531,nm1267549,nm3585599   \n",
       "3                  Gary Miller  nm5221471,nm2670531,nm4920605,nm3038816   \n",
       "4                  Gary Miller  nm2670531,nm4920605,nm6284246,nm3992720   \n",
       "\n",
       "                                          stars_name  \\\n",
       "0  Farrah Laurel Abraham,Asa Akira,Anikka Albrite...   \n",
       "1       Darian Caine,Jackie Stevens,A.J. Khan,Arrora   \n",
       "2  Aubrey Addams,Asa Akira,Monique Alexander,Rave...   \n",
       "3  Amirah Adara,Asa Akira,Anikka Albrite,Britney ...   \n",
       "4  Asa Akira,Anikka Albrite,August Ames,Jessie An...   \n",
       "\n",
       "                                         description  \n",
       "0  The hottest adult stars and top adult movies a...  \n",
       "1  Darian is a successful journalist but when she...  \n",
       "2                                         Add a Plot  \n",
       "3  Considered the industry's highest honor, the A...  \n",
       "4  Erotic filmmaking superstars Chanel Preston an...  "
      ]
     },
     "execution_count": 30,
     "metadata": {},
     "output_type": "execute_result"
    }
   ],
   "source": [
    "data.head()"
   ]
  },
  {
   "cell_type": "code",
   "execution_count": 32,
   "id": "6a1d2ac8",
   "metadata": {},
   "outputs": [
    {
     "data": {
      "text/plain": [
       "id                      0\n",
       "name                    0\n",
       "year                53620\n",
       "rating            1960395\n",
       "certificate       2042014\n",
       "duration          1608346\n",
       "genre                   0\n",
       "votes             1960361\n",
       "gross_income      2548798\n",
       "directors_id      1059727\n",
       "directors_name    1059727\n",
       "stars_id           647781\n",
       "stars_name         647781\n",
       "description             0\n",
       "dtype: int64"
      ]
     },
     "execution_count": 32,
     "metadata": {},
     "output_type": "execute_result"
    }
   ],
   "source": [
    "data.isnull().sum()"
   ]
  },
  {
   "cell_type": "markdown",
   "id": "b5ea932a",
   "metadata": {},
   "source": [
    "#### 3.1 Filling Null values in Year with 2100"
   ]
  },
  {
   "cell_type": "code",
   "execution_count": 36,
   "id": "4e2bce39",
   "metadata": {},
   "outputs": [
    {
     "name": "stderr",
     "output_type": "stream",
     "text": [
      "/var/folders/rq/lwddjvtn5n9gjw05hwrg3hp80000gn/T/ipykernel_2621/2470475137.py:1: SettingWithCopyWarning: \n",
      "A value is trying to be set on a copy of a slice from a DataFrame.\n",
      "Try using .loc[row_indexer,col_indexer] = value instead\n",
      "\n",
      "See the caveats in the documentation: https://pandas.pydata.org/pandas-docs/stable/user_guide/indexing.html#returning-a-view-versus-a-copy\n",
      "  data['year'] = data['year'].fillna('(2100 - )')\n"
     ]
    }
   ],
   "source": [
    "data['year'] = data['year'].fillna('(2100 - )')"
   ]
  },
  {
   "cell_type": "markdown",
   "id": "5aa4aee4",
   "metadata": {},
   "source": [
    "#### 3.2 Filling Null values in rating 11"
   ]
  },
  {
   "cell_type": "code",
   "execution_count": 47,
   "id": "9f792b63",
   "metadata": {
    "scrolled": true
   },
   "outputs": [
    {
     "name": "stderr",
     "output_type": "stream",
     "text": [
      "/var/folders/rq/lwddjvtn5n9gjw05hwrg3hp80000gn/T/ipykernel_2621/3892892285.py:1: SettingWithCopyWarning: \n",
      "A value is trying to be set on a copy of a slice from a DataFrame.\n",
      "Try using .loc[row_indexer,col_indexer] = value instead\n",
      "\n",
      "See the caveats in the documentation: https://pandas.pydata.org/pandas-docs/stable/user_guide/indexing.html#returning-a-view-versus-a-copy\n",
      "  data['rating'] = data['rating'].fillna(11.0)\n"
     ]
    }
   ],
   "source": [
    "data['rating'] = data['rating'].fillna(11.0)"
   ]
  },
  {
   "cell_type": "markdown",
   "id": "8fe9dbe3",
   "metadata": {},
   "source": [
    "#### 3.3 Dealing Null values with Certificate not Given"
   ]
  },
  {
   "cell_type": "code",
   "execution_count": 50,
   "id": "8c4f8ee0",
   "metadata": {},
   "outputs": [
    {
     "name": "stderr",
     "output_type": "stream",
     "text": [
      "/var/folders/rq/lwddjvtn5n9gjw05hwrg3hp80000gn/T/ipykernel_2621/3990542171.py:1: SettingWithCopyWarning: \n",
      "A value is trying to be set on a copy of a slice from a DataFrame.\n",
      "Try using .loc[row_indexer,col_indexer] = value instead\n",
      "\n",
      "See the caveats in the documentation: https://pandas.pydata.org/pandas-docs/stable/user_guide/indexing.html#returning-a-view-versus-a-copy\n",
      "  data['certificate'] = data['certificate'].fillna('Not Certified')\n"
     ]
    }
   ],
   "source": [
    "data['certificate'] = data['certificate'].fillna('Not Certified')"
   ]
  },
  {
   "cell_type": "markdown",
   "id": "36d0403b",
   "metadata": {},
   "source": [
    "#### 3.4 Dealing with Duration as 0 min"
   ]
  },
  {
   "cell_type": "code",
   "execution_count": 52,
   "id": "596dbf07",
   "metadata": {},
   "outputs": [
    {
     "name": "stderr",
     "output_type": "stream",
     "text": [
      "/var/folders/rq/lwddjvtn5n9gjw05hwrg3hp80000gn/T/ipykernel_2621/460289002.py:1: SettingWithCopyWarning: \n",
      "A value is trying to be set on a copy of a slice from a DataFrame.\n",
      "Try using .loc[row_indexer,col_indexer] = value instead\n",
      "\n",
      "See the caveats in the documentation: https://pandas.pydata.org/pandas-docs/stable/user_guide/indexing.html#returning-a-view-versus-a-copy\n",
      "  data['duration'] = data['duration'].fillna('0 min')\n"
     ]
    }
   ],
   "source": [
    "data['duration'] = data['duration'].fillna('0 min')"
   ]
  },
  {
   "cell_type": "markdown",
   "id": "d3eda0d6",
   "metadata": {},
   "source": [
    "#### 3.5 Taking Votes as 0 inf Null"
   ]
  },
  {
   "cell_type": "code",
   "execution_count": 57,
   "id": "08e80dcc",
   "metadata": {},
   "outputs": [
    {
     "name": "stderr",
     "output_type": "stream",
     "text": [
      "/var/folders/rq/lwddjvtn5n9gjw05hwrg3hp80000gn/T/ipykernel_2621/1661824618.py:1: SettingWithCopyWarning: \n",
      "A value is trying to be set on a copy of a slice from a DataFrame.\n",
      "Try using .loc[row_indexer,col_indexer] = value instead\n",
      "\n",
      "See the caveats in the documentation: https://pandas.pydata.org/pandas-docs/stable/user_guide/indexing.html#returning-a-view-versus-a-copy\n",
      "  data['votes'] = data['votes'].fillna(0)\n"
     ]
    }
   ],
   "source": [
    "data['votes'] = data['votes'].fillna(0)"
   ]
  },
  {
   "cell_type": "markdown",
   "id": "af463368",
   "metadata": {},
   "source": [
    "##### 3.5 Dealing with Null Directors as Anonymous"
   ]
  },
  {
   "cell_type": "code",
   "execution_count": 63,
   "id": "542eea59",
   "metadata": {},
   "outputs": [
    {
     "name": "stderr",
     "output_type": "stream",
     "text": [
      "/var/folders/rq/lwddjvtn5n9gjw05hwrg3hp80000gn/T/ipykernel_2621/319189750.py:1: SettingWithCopyWarning: \n",
      "A value is trying to be set on a copy of a slice from a DataFrame.\n",
      "Try using .loc[row_indexer,col_indexer] = value instead\n",
      "\n",
      "See the caveats in the documentation: https://pandas.pydata.org/pandas-docs/stable/user_guide/indexing.html#returning-a-view-versus-a-copy\n",
      "  data['directors_id']    = data['directors_id'].fillna('Anonymous')\n",
      "/var/folders/rq/lwddjvtn5n9gjw05hwrg3hp80000gn/T/ipykernel_2621/319189750.py:2: SettingWithCopyWarning: \n",
      "A value is trying to be set on a copy of a slice from a DataFrame.\n",
      "Try using .loc[row_indexer,col_indexer] = value instead\n",
      "\n",
      "See the caveats in the documentation: https://pandas.pydata.org/pandas-docs/stable/user_guide/indexing.html#returning-a-view-versus-a-copy\n",
      "  data['directors_name']  = data['directors_name'].fillna('nm0000000')\n"
     ]
    }
   ],
   "source": [
    "data['directors_id']    = data['directors_id'].fillna('Anonymous')\n",
    "data['directors_name']  = data['directors_name'].fillna('nm0000000')"
   ]
  },
  {
   "cell_type": "markdown",
   "id": "a759314d",
   "metadata": {},
   "source": [
    "##### 3.6 Dealing with Null Starts as Anonymous"
   ]
  },
  {
   "cell_type": "code",
   "execution_count": 64,
   "id": "1219635a",
   "metadata": {},
   "outputs": [
    {
     "name": "stderr",
     "output_type": "stream",
     "text": [
      "/var/folders/rq/lwddjvtn5n9gjw05hwrg3hp80000gn/T/ipykernel_2621/4209384817.py:1: SettingWithCopyWarning: \n",
      "A value is trying to be set on a copy of a slice from a DataFrame.\n",
      "Try using .loc[row_indexer,col_indexer] = value instead\n",
      "\n",
      "See the caveats in the documentation: https://pandas.pydata.org/pandas-docs/stable/user_guide/indexing.html#returning-a-view-versus-a-copy\n",
      "  data['stars_id']    = data['stars_id'].fillna('Anonymous')\n",
      "/var/folders/rq/lwddjvtn5n9gjw05hwrg3hp80000gn/T/ipykernel_2621/4209384817.py:2: SettingWithCopyWarning: \n",
      "A value is trying to be set on a copy of a slice from a DataFrame.\n",
      "Try using .loc[row_indexer,col_indexer] = value instead\n",
      "\n",
      "See the caveats in the documentation: https://pandas.pydata.org/pandas-docs/stable/user_guide/indexing.html#returning-a-view-versus-a-copy\n",
      "  data['stars_name']  = data['stars_name'].fillna('nm0000000')\n"
     ]
    }
   ],
   "source": [
    "data['stars_id']    = data['stars_id'].fillna('Anonymous')\n",
    "data['stars_name']  = data['stars_name'].fillna('nm0000000')"
   ]
  },
  {
   "cell_type": "markdown",
   "id": "c030c508",
   "metadata": {},
   "source": [
    "##### 3.7 Dealing with null Gross Income as 0"
   ]
  },
  {
   "cell_type": "code",
   "execution_count": 71,
   "id": "3ed7653f",
   "metadata": {
    "scrolled": true
   },
   "outputs": [
    {
     "name": "stderr",
     "output_type": "stream",
     "text": [
      "/var/folders/rq/lwddjvtn5n9gjw05hwrg3hp80000gn/T/ipykernel_2621/3088175359.py:1: SettingWithCopyWarning: \n",
      "A value is trying to be set on a copy of a slice from a DataFrame.\n",
      "Try using .loc[row_indexer,col_indexer] = value instead\n",
      "\n",
      "See the caveats in the documentation: https://pandas.pydata.org/pandas-docs/stable/user_guide/indexing.html#returning-a-view-versus-a-copy\n",
      "  data['gross_income'] = data['gross_income'].fillna('0')\n"
     ]
    }
   ],
   "source": [
    "data['gross_income'] = data['gross_income'].fillna('0')"
   ]
  },
  {
   "cell_type": "markdown",
   "id": "3df7476b",
   "metadata": {},
   "source": [
    "### 4. Saving the DataFrame"
   ]
  },
  {
   "cell_type": "code",
   "execution_count": 73,
   "id": "392fab5a",
   "metadata": {},
   "outputs": [],
   "source": [
    "data.to_csv('preprocessed.csv', index = False)"
   ]
  }
 ],
 "metadata": {
  "kernelspec": {
   "display_name": "Python 3 (ipykernel)",
   "language": "python",
   "name": "python3"
  },
  "language_info": {
   "codemirror_mode": {
    "name": "ipython",
    "version": 3
   },
   "file_extension": ".py",
   "mimetype": "text/x-python",
   "name": "python",
   "nbconvert_exporter": "python",
   "pygments_lexer": "ipython3",
   "version": "3.9.7"
  }
 },
 "nbformat": 4,
 "nbformat_minor": 5
}
